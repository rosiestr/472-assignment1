{
 "cells": [
  {
   "cell_type": "markdown",
   "metadata": {},
   "source": [
    "<h1> 2.Words as Features </h2>"
   ]
  },
  {
   "cell_type": "markdown",
   "metadata": {},
   "source": [
    "<p> AUTHORS: </p>"
   ]
  },
  {
   "cell_type": "code",
   "execution_count": 30,
   "metadata": {},
   "outputs": [],
   "source": [
    "from sklearn.feature_extraction.text import CountVectorizer\n",
    "from sklearn.model_selection import train_test_split\n",
    "from sklearn.naive_bayes import MultinomialNB\n",
    "from sklearn.tree import DecisionTreeClassifier, plot_tree\n",
    "from sklearn import tree\n",
    "from sklearn.linear_model import Perceptron\n",
    "from sklearn.model_selection import GridSearchCV\n",
    "from sklearn.neural_network import MLPClassifier\n",
    "from sklearn.metrics import confusion_matrix,classification_report\n",
    "\n",
    "import matplotlib.pyplot as plt\n",
    "from sklearn.metrics import plot_confusion_matrix\n",
    "\n",
    "import gzip\n",
    "import json\n",
    "import collections\n",
    "\n",
    "# jsonfiledirectory = \"C:\\\\Users\\\\Krish\\\\.vscode\\\\472-assignment1\\\\goemotions.json.gz\"\n",
    "jsonfiledirectory = \"C:\\\\Users\\\\p_ishna\\\\Downloads\\\\goemotions.json.gz\"\n",
    "\n",
    "with gzip.open(jsonfiledirectory, \"r\") as f:\n",
    "    data = json.loads(f.read().decode(\"utf-8\"))"
   ]
  },
  {
   "cell_type": "markdown",
   "metadata": {},
   "source": [
    "<h3> Size of the vocabulary </h3>"
   ]
  },
  {
   "cell_type": "code",
   "execution_count": 31,
   "metadata": {},
   "outputs": [
    {
     "name": "stdout",
     "output_type": "stream",
     "text": [
      "(171820, 30449)\n"
     ]
    }
   ],
   "source": [
    "strings = []\n",
    "sentiment = []\n",
    "emotion = []\n",
    "for item in data:\n",
    "    strings.append(item[0])\n",
    "    emotion.append(item[1])\n",
    "    sentiment.append(item[2])\n",
    "\n",
    "vectorizer = CountVectorizer()\n",
    "# vectorizer.fit(strings)\n",
    "# print(vectorizer.vocabulary_)\n",
    "# tokenize and build vocab\n",
    "v_fit = vectorizer.fit_transform(strings)\n",
    "#v_fit = vectorizer.transform(strings)\n",
    "\n",
    "print(v_fit.shape)"
   ]
  },
  {
   "cell_type": "markdown",
   "metadata": {},
   "source": [
    "<h3>2.2 Split Dataset </h3>"
   ]
  },
  {
   "cell_type": "code",
   "execution_count": 32,
   "metadata": {},
   "outputs": [],
   "source": [
    "# Comment out depending on which classification you are running\n",
    "\n",
    "# SENTIMENTS\n",
    "X_train, X_test, y_train, y_test = train_test_split(v_fit, sentiment, test_size=0.2)\n",
    "\n",
    "# EMOTIONS\n",
    "# X_train, X_test, y_train, y_test = train_test_split(v_fit, emotion, test_size=0.2)"
   ]
  },
  {
   "cell_type": "markdown",
   "metadata": {},
   "source": [
    "<h3>2.3 Classifiers - EMOTIONS</h3>"
   ]
  },
  {
   "cell_type": "markdown",
   "metadata": {},
   "source": [
    "<h4> BASE-MNB <h4>"
   ]
  },
  {
   "cell_type": "code",
   "execution_count": null,
   "metadata": {},
   "outputs": [],
   "source": [
    "em_base_mnb = MultinomialNB()\n",
    "em_base_mnb.fit(X_train,y_train)\n",
    "print(\"Base-MNP: \")\n",
    "print(em_base_mnb.score(X_test,y_test))"
   ]
  },
  {
   "cell_type": "markdown",
   "metadata": {},
   "source": [
    "<h4>BASE-DT</h4>"
   ]
  },
  {
   "cell_type": "code",
   "execution_count": null,
   "metadata": {},
   "outputs": [],
   "source": [
    "em_dtc = DecisionTreeClassifier()\n",
    "em_dtc.fit(X_train, y_train)\n",
    "print(\"Base-DT: \")\n",
    "print(em_dtc.score(X_test, y_test))"
   ]
  },
  {
   "cell_type": "markdown",
   "metadata": {},
   "source": [
    "<h4>BASE-MLP</H4>"
   ]
  },
  {
   "cell_type": "code",
   "execution_count": null,
   "metadata": {},
   "outputs": [],
   "source": [
    "em_p = MLPClassifier()\n",
    "em_p.fit(X_train,y_train)\n",
    "print(\"Base-MLP: \")\n",
    "print(em_p.score(X_test,y_test))"
   ]
  },
  {
   "cell_type": "markdown",
   "metadata": {},
   "source": [
    "<h4>TOP-MNB<H4>"
   ]
  },
  {
   "cell_type": "code",
   "execution_count": null,
   "metadata": {},
   "outputs": [],
   "source": [
    "em_nb = MultinomialNB()\n",
    "params_nb = {\n",
    "    \"alpha\" : [0.0, 0.5, 1.0, 2.0]\n",
    "}\n",
    "\n",
    "em_nb_grid = GridSearchCV(em_nb, params_nb)\n",
    "em_nb_grid.fit(X_train, y_train)\n",
    "print(\"TOP-MNB: \")\n",
    "print(em_nb_grid.score(X_test, y_test))\n"
   ]
  },
  {
   "cell_type": "markdown",
   "metadata": {},
   "source": [
    "<h4>TOP-DT<H4>"
   ]
  },
  {
   "cell_type": "code",
   "execution_count": null,
   "metadata": {},
   "outputs": [],
   "source": [
    "em_tdt = DecisionTreeClassifier()\n",
    "\n",
    "params_dt = {\n",
    "    \"criterion\" : ['entropy'],\n",
    "    \"max_depth\" : [2, 10],\n",
    "    \"min_samples_split\" : [1.0, 5, 100]\n",
    "}\n",
    "dt_grid = GridSearchCV(\n",
    "    estimator=em_tdt,\n",
    "    param_grid= params_dt\n",
    ")\n",
    "dt_grid = dt_grid.fit(X_train, y_train)\n",
    "print(\"TOP-DT: \")\n",
    "print(dt_grid.score(X_test, y_test))"
   ]
  },
  {
   "cell_type": "markdown",
   "metadata": {},
   "source": [
    "<h4>TOP-MLP<H4>"
   ]
  },
  {
   "cell_type": "code",
   "execution_count": null,
   "metadata": {},
   "outputs": [],
   "source": [
    "em_mlp = MLPClassifier(max_iter=1)\n",
    "\n",
    "params_mlp = {\n",
    "    'activation' : ['sigmoid', 'tanh', 'relu', 'identity'],\n",
    "    'hidden_layer_sizes': [(10,10,10), (30,50)],\n",
    "    'solver': ['sgd', 'adam'] \n",
    "}\n",
    "\n",
    "mlp_grid = GridSearchCV(em_mlp,params_mlp,n_jobs=-1)\n",
    "mlp_grid.fit(X_train, y_train)\n",
    "print(\"TOP-MLP: \")\n",
    "print(mlp_grid.score(X_test, y_test))"
   ]
  },
  {
   "cell_type": "code",
   "execution_count": null,
   "metadata": {},
   "outputs": [],
   "source": []
  },
  {
   "cell_type": "markdown",
   "metadata": {},
   "source": [
    "<h3> 2.3 Classifiers - SENTIMENTS </h3>"
   ]
  },
  {
   "cell_type": "markdown",
   "metadata": {},
   "source": [
    "<h4>BASE-MNB</h4>"
   ]
  },
  {
   "cell_type": "code",
   "execution_count": 6,
   "metadata": {},
   "outputs": [
    {
     "name": "stdout",
     "output_type": "stream",
     "text": [
      "Base-MNP: \n",
      "0.5475788615993482\n"
     ]
    }
   ],
   "source": [
    "sent_base_mnb = MultinomialNB()\n",
    "sent_base_mnb.fit(X_train,y_train)\n",
    "print(\"Base-MNP: \")\n",
    "print(sent_base_mnb.score(X_test,y_test))"
   ]
  },
  {
   "cell_type": "markdown",
   "metadata": {},
   "source": [
    "<h4>BASE - DT</h4>"
   ]
  },
  {
   "cell_type": "code",
   "execution_count": 7,
   "metadata": {},
   "outputs": [
    {
     "name": "stdout",
     "output_type": "stream",
     "text": [
      "Base-DT: \n",
      "0.5414096147130718\n"
     ]
    }
   ],
   "source": [
    "sent_dtc = DecisionTreeClassifier()\n",
    "sent_dtc.fit(X_train, y_train)\n",
    "print(\"Base-DT: \")\n",
    "print(sent_dtc.score(X_test, y_test))"
   ]
  },
  {
   "cell_type": "markdown",
   "metadata": {},
   "source": [
    "<h4> BASE-MLP</h4>"
   ]
  },
  {
   "cell_type": "code",
   "execution_count": 28,
   "metadata": {},
   "outputs": [
    {
     "name": "stdout",
     "output_type": "stream",
     "text": [
      "Base-MLP: \n",
      "0.574758468164358\n"
     ]
    },
    {
     "name": "stderr",
     "output_type": "stream",
     "text": [
      "C:\\Anaconda3\\lib\\site-packages\\sklearn\\neural_network\\_multilayer_perceptron.py:582: ConvergenceWarning: Stochastic Optimizer: Maximum iterations (2) reached and the optimization hasn't converged yet.\n",
      "  warnings.warn(\n"
     ]
    }
   ],
   "source": [
    "sent_p = MLPClassifier(max_iter=2)\n",
    "sent_p.fit(X_train,y_train)\n",
    "print(\"Base-MLP: \")\n",
    "print(sent_p.score(X_test,y_test))"
   ]
  },
  {
   "cell_type": "markdown",
   "metadata": {},
   "source": [
    "<h4>TOP-MNB<H4>"
   ]
  },
  {
   "cell_type": "code",
   "execution_count": 10,
   "metadata": {},
   "outputs": [
    {
     "name": "stderr",
     "output_type": "stream",
     "text": [
      "C:\\Anaconda3\\lib\\site-packages\\sklearn\\naive_bayes.py:511: UserWarning: alpha too small will result in numeric errors, setting alpha = 1.0e-10\n",
      "  warnings.warn('alpha too small will result in numeric errors, '\n",
      "C:\\Anaconda3\\lib\\site-packages\\sklearn\\naive_bayes.py:511: UserWarning: alpha too small will result in numeric errors, setting alpha = 1.0e-10\n",
      "  warnings.warn('alpha too small will result in numeric errors, '\n",
      "C:\\Anaconda3\\lib\\site-packages\\sklearn\\naive_bayes.py:511: UserWarning: alpha too small will result in numeric errors, setting alpha = 1.0e-10\n",
      "  warnings.warn('alpha too small will result in numeric errors, '\n",
      "C:\\Anaconda3\\lib\\site-packages\\sklearn\\naive_bayes.py:511: UserWarning: alpha too small will result in numeric errors, setting alpha = 1.0e-10\n",
      "  warnings.warn('alpha too small will result in numeric errors, '\n",
      "C:\\Anaconda3\\lib\\site-packages\\sklearn\\naive_bayes.py:511: UserWarning: alpha too small will result in numeric errors, setting alpha = 1.0e-10\n",
      "  warnings.warn('alpha too small will result in numeric errors, '\n"
     ]
    },
    {
     "name": "stdout",
     "output_type": "stream",
     "text": [
      "TOP-MNB: \n",
      "0.5475788615993482\n"
     ]
    }
   ],
   "source": [
    "sent_nb = MultinomialNB()\n",
    "params_nb = {\n",
    "    \"alpha\" : [0.0, 0.5, 1.0, 2.0]\n",
    "}\n",
    "\n",
    "sent_nb_grid = GridSearchCV(sent_nb, params_nb)\n",
    "sent_nb_grid.fit(X_train, y_train)\n",
    "print(\"TOP-MNB: \")\n",
    "print(sent_nb_grid.score(X_test, y_test))\n"
   ]
  },
  {
   "cell_type": "markdown",
   "metadata": {},
   "source": [
    "<h4>TOP-DT</h4>"
   ]
  },
  {
   "cell_type": "code",
   "execution_count": 37,
   "metadata": {},
   "outputs": [
    {
     "name": "stdout",
     "output_type": "stream",
     "text": [
      "best parameters:\n",
      "{'criterion': 'gini', 'max_depth': 10, 'min_samples_split': 40}\n",
      "best score possible:\n",
      "0.42894454200248483\n"
     ]
    }
   ],
   "source": [
    "sent_tdt = DecisionTreeClassifier()\n",
    "\n",
    "params_dt = {\n",
    "    \"criterion\" : ['gini','entropy'],\n",
    "    \"max_depth\" : [2,10],\n",
    "    \"min_samples_split\" : [2,40]\n",
    "}\n",
    "dt_grid = GridSearchCV(\n",
    "    estimator=sent_tdt,\n",
    "    param_grid= params_dt\n",
    ")\n",
    "dt_grid = dt_grid.fit(X_train, y_train)\n",
    "print('best parameters:')\n",
    "print(dt_grid.best_params_)\n",
    "print('best score possible:')\n",
    "print(dt_grid.best_score_)\n",
    "# print(\"TOP-DT: \")\n",
    "# print(dt_grid.score(X_test, y_test))"
   ]
  },
  {
   "cell_type": "markdown",
   "metadata": {},
   "source": [
    "<h4>TOP-MLP</h4>"
   ]
  },
  {
   "cell_type": "code",
   "execution_count": null,
   "metadata": {},
   "outputs": [],
   "source": [
    "sent_mlp = MLPClassifier(max_iter=1)\n",
    "\n",
    "params_mlp = {\n",
    "    'activation' : ['sigmoid', 'tanh', 'relu', 'identity'],\n",
    "    'hidden_layer_sizes': [(10,10,10), (30,50)],\n",
    "    'solver': ['sgd', 'adam'] \n",
    "}\n",
    "\n",
    "mlp_grid = GridSearchCV(sent_mlp,params_mlp,n_jobs=-1)\n",
    "mlp_grid.fit(X_train, y_train)\n",
    "print(\"TOP-MLP: \")\n",
    "print(mlp_grid.score(X_test, y_test))"
   ]
  },
  {
   "cell_type": "code",
   "execution_count": null,
   "metadata": {},
   "outputs": [],
   "source": []
  }
 ],
 "metadata": {
  "kernelspec": {
   "display_name": "Python 3",
   "language": "python",
   "name": "python3"
  },
  "language_info": {
   "codemirror_mode": {
    "name": "ipython",
    "version": 3
   },
   "file_extension": ".py",
   "mimetype": "text/x-python",
   "name": "python",
   "nbconvert_exporter": "python",
   "pygments_lexer": "ipython3",
   "version": "3.10.7"
  },
  "vscode": {
   "interpreter": {
    "hash": "9b4d75ac280b6c7c3aa43866cb82dc88915409b55fec83a093dd0284cb58708e"
   }
  }
 },
 "nbformat": 4,
 "nbformat_minor": 2
}
