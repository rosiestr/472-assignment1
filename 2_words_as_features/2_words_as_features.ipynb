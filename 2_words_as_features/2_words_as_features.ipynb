{
 "cells": [
  {
   "cell_type": "markdown",
   "metadata": {},
   "source": [
    "<h1> 2.Words as Features </h2>"
   ]
  },
  {
   "cell_type": "markdown",
   "metadata": {},
   "source": [
    "<p> AUTHORS: </p>"
   ]
  },
  {
   "cell_type": "code",
   "execution_count": 1,
   "metadata": {},
   "outputs": [],
   "source": [
    "from sklearn.feature_extraction.text import CountVectorizer\n",
    "from sklearn.model_selection import train_test_split\n",
    "from sklearn.naive_bayes import MultinomialNB\n",
    "from sklearn.tree import DecisionTreeClassifier, plot_tree\n",
    "from sklearn.linear_model import Perceptron\n",
    "import gzip\n",
    "import json\n",
    "import collections\n",
    "from sklearn.model_selection import GridSearchCV\n",
    "from sklearn.svm import SVC \n",
    "\n",
    "jsonfiledirectory = \"C:\\\\Users\\\\Krish\\\\.vscode\\\\472-assignment1\\\\goemotions.json.gz\"\n",
    "\n",
    "with gzip.open(jsonfiledirectory, \"r\") as f:\n",
    "    data = json.loads(f.read().decode(\"utf-8\"))"
   ]
  },
  {
   "cell_type": "markdown",
   "metadata": {},
   "source": [
    "<h3> Size of the vocabulary </h3>"
   ]
  },
  {
   "cell_type": "code",
   "execution_count": 2,
   "metadata": {},
   "outputs": [
    {
     "name": "stdout",
     "output_type": "stream",
     "text": [
      "(171820, 30449)\n"
     ]
    }
   ],
   "source": [
    "\n",
    "strings = []\n",
    "sentiment = []\n",
    "emotion = []\n",
    "for item in data:\n",
    "    strings.append(item[0])\n",
    "    emotion.append(item[1])\n",
    "    sentiment.append(item[2])\n",
    "\n",
    "vectorizer = CountVectorizer()\n",
    "# vectorizer.fit(strings)\n",
    "# print(vectorizer.vocabulary_)\n",
    "# tokenize and build vocab\n",
    "v_fit = vectorizer.fit_transform(strings)\n",
    "#v_fit = vectorizer.transform(strings)\n",
    "\n",
    "print(v_fit.shape)\n"
   ]
  },
  {
   "cell_type": "markdown",
   "metadata": {},
   "source": [
    "<h3>2.2 Split Dataset </h3>"
   ]
  },
  {
   "cell_type": "code",
   "execution_count": 3,
   "metadata": {},
   "outputs": [],
   "source": [
    "# Comment out depending on which classification you are running\n",
    "\n",
    "# SENTIMENTS\n",
    "# X_train, X_test, y_train, y_test = train_test_split(v_fit, sentiment, test_size=0.2)\n",
    "\n",
    "# EMOTIONS\n",
    "X_train, X_test, y_train, y_test = train_test_split(v_fit, emotion, test_size=0.2)"
   ]
  },
  {
   "cell_type": "markdown",
   "metadata": {},
   "source": [
    "<h3>2.3 Classifiers - EMOTIONS</h3>"
   ]
  },
  {
   "cell_type": "markdown",
   "metadata": {},
   "source": [
    "<h4> BASE-MNB <h4>"
   ]
  },
  {
   "cell_type": "code",
   "execution_count": 21,
   "metadata": {},
   "outputs": [
    {
     "name": "stdout",
     "output_type": "stream",
     "text": [
      "Base-MNP: \n",
      "0.38444302176696543\n"
     ]
    }
   ],
   "source": [
    "em_base_mnb = MultinomialNB()\n",
    "em_base_mnb.fit(X_train,y_train)\n",
    "print(\"Base-MNP: \")\n",
    "print(em_base_mnb.score(X_test,y_test))"
   ]
  },
  {
   "cell_type": "markdown",
   "metadata": {},
   "source": [
    "<h4>BASE-DT</h4>"
   ]
  },
  {
   "cell_type": "code",
   "execution_count": 22,
   "metadata": {},
   "outputs": [
    {
     "name": "stdout",
     "output_type": "stream",
     "text": [
      "Base-DT: \n",
      "0.3645675707135374\n"
     ]
    }
   ],
   "source": [
    "em_dtc = DecisionTreeClassifier()\n",
    "em_dtc.fit(X_train, y_train)\n",
    "print(\"Base-DT: \")\n",
    "print(em_dtc.score(X_test, y_test))"
   ]
  },
  {
   "cell_type": "markdown",
   "metadata": {},
   "source": [
    "<h4>BASE-MLP</H4>"
   ]
  },
  {
   "cell_type": "code",
   "execution_count": 23,
   "metadata": {},
   "outputs": [
    {
     "name": "stdout",
     "output_type": "stream",
     "text": [
      "Base-MLP: \n",
      "0.31698870911418925\n"
     ]
    }
   ],
   "source": [
    "em_p = Perceptron()\n",
    "em_p.fit(X_train,y_train)\n",
    "print(\"Base-MLP: \")\n",
    "print(em_p.score(X_test,y_test))"
   ]
  },
  {
   "cell_type": "markdown",
   "metadata": {},
   "source": [
    "<h4>TOP-MNB<H4>"
   ]
  },
  {
   "cell_type": "code",
   "execution_count": 24,
   "metadata": {},
   "outputs": [
    {
     "name": "stderr",
     "output_type": "stream",
     "text": [
      "C:\\Users\\Krish\\AppData\\Roaming\\Python\\Python310\\site-packages\\sklearn\\naive_bayes.py:591: UserWarning: alpha too small will result in numeric errors, setting alpha = 1.0e-10\n",
      "  warnings.warn(\n",
      "C:\\Users\\Krish\\AppData\\Roaming\\Python\\Python310\\site-packages\\sklearn\\naive_bayes.py:591: UserWarning: alpha too small will result in numeric errors, setting alpha = 1.0e-10\n",
      "  warnings.warn(\n",
      "C:\\Users\\Krish\\AppData\\Roaming\\Python\\Python310\\site-packages\\sklearn\\naive_bayes.py:591: UserWarning: alpha too small will result in numeric errors, setting alpha = 1.0e-10\n",
      "  warnings.warn(\n",
      "C:\\Users\\Krish\\AppData\\Roaming\\Python\\Python310\\site-packages\\sklearn\\naive_bayes.py:591: UserWarning: alpha too small will result in numeric errors, setting alpha = 1.0e-10\n",
      "  warnings.warn(\n",
      "C:\\Users\\Krish\\AppData\\Roaming\\Python\\Python310\\site-packages\\sklearn\\naive_bayes.py:591: UserWarning: alpha too small will result in numeric errors, setting alpha = 1.0e-10\n",
      "  warnings.warn(\n"
     ]
    },
    {
     "name": "stdout",
     "output_type": "stream",
     "text": [
      "TOP-MNB: \n",
      "0.39035036666278666\n"
     ]
    }
   ],
   "source": [
    "em_nb = MultinomialNB()\n",
    "params_nb = {\n",
    "    \"alpha\" : [0.0, 0.5, 1.0, 2.0]\n",
    "}\n",
    "\n",
    "em_nb_grid = GridSearchCV(em_nb, params_nb)\n",
    "em_nb_grid.fit(X_train, y_train)\n",
    "print(\"TOP-MNB: \")\n",
    "print(em_nb_grid.score(X_test, y_test))\n"
   ]
  },
  {
   "cell_type": "markdown",
   "metadata": {},
   "source": [
    "<h4>TOP-DT<H4>"
   ]
  },
  {
   "cell_type": "code",
   "execution_count": 4,
   "metadata": {},
   "outputs": [],
   "source": [
    "em_tdt = DecisionTreeClassifier()\n",
    "\n",
    "params_dt = {\n",
    "    \"criterion\" : ['entropy'],\n",
    "    \"max_depth\" : [2, 100],\n",
    "    \"min_samples_split\" : [1.0, 5, 100]\n",
    "}\n",
    "dt_grid = GridSearchCV(\n",
    "    estimator=em_tdt,\n",
    "    param_grid= params_dt\n",
    ")\n",
    "dt_grid = dt_grid.fit(X_train, y_train)\n",
    "print(\"TOP-DT: \")\n",
    "print(dt_grid.score(X_test, y_test))"
   ]
  },
  {
   "cell_type": "markdown",
   "metadata": {},
   "source": [
    "<h4>TOP-MLP<H4>"
   ]
  },
  {
   "cell_type": "code",
   "execution_count": null,
   "metadata": {},
   "outputs": [],
   "source": []
  }
 ],
 "metadata": {
  "kernelspec": {
   "display_name": "Python 3.10.7 64-bit",
   "language": "python",
   "name": "python3"
  },
  "language_info": {
   "codemirror_mode": {
    "name": "ipython",
    "version": 3
   },
   "file_extension": ".py",
   "mimetype": "text/x-python",
   "name": "python",
   "nbconvert_exporter": "python",
   "pygments_lexer": "ipython3",
   "version": "3.10.7"
  },
  "orig_nbformat": 4,
  "vscode": {
   "interpreter": {
    "hash": "9b4d75ac280b6c7c3aa43866cb82dc88915409b55fec83a093dd0284cb58708e"
   }
  }
 },
 "nbformat": 4,
 "nbformat_minor": 2
}
