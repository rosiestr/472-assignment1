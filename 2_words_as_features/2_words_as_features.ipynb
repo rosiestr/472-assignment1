{
 "cells": [
  {
   "cell_type": "markdown",
   "metadata": {},
   "source": [
    "<h1> 2.Words as Features </h2>"
   ]
  },
  {
   "cell_type": "markdown",
   "metadata": {},
   "source": [
    "<p> AUTHORS: </p>"
   ]
  },
  {
   "cell_type": "code",
   "execution_count": 2,
   "metadata": {},
   "outputs": [],
   "source": [
    "from sklearn.feature_extraction.text import CountVectorizer\n",
    "from sklearn.model_selection import train_test_split\n",
    "from sklearn.naive_bayes import MultinomialNB\n",
    "from sklearn.tree import DecisionTreeClassifier, plot_tree\n",
    "from sklearn import tree\n",
    "from sklearn.linear_model import Perceptron\n",
    "from sklearn.model_selection import GridSearchCV\n",
    "from sklearn.neural_network import MLPClassifier\n",
    "from sklearn.metrics import confusion_matrix,classification_report\n",
    "\n",
    "import matplotlib.pyplot as plt\n",
    "from sklearn.metrics import plot_confusion_matrix\n",
    "\n",
    "import gzip\n",
    "import json\n",
    "import collections\n",
    "\n",
    "jsonfiledirectory = \"C:\\\\Users\\\\Krish\\\\.vscode\\\\472-assignment1\\\\goemotions.json.gz\"\n",
    "# jsonfiledirectory = \"C:\\\\Users\\\\p_ishna\\\\Downloads\\\\goemotions.json.gz\"\n",
    "\n",
    "with gzip.open(jsonfiledirectory, \"r\") as f:\n",
    "    data = json.loads(f.read().decode(\"utf-8\"))"
   ]
  },
  {
   "cell_type": "markdown",
   "metadata": {},
   "source": [
    "<h3> Size of the vocabulary </h3>"
   ]
  },
  {
   "cell_type": "code",
   "execution_count": 3,
   "metadata": {},
   "outputs": [
    {
     "name": "stdout",
     "output_type": "stream",
     "text": [
      "(171820, 30449)\n"
     ]
    }
   ],
   "source": [
    "\n",
    "strings = []\n",
    "sentiment = []\n",
    "emotion = []\n",
    "for item in data:\n",
    "    strings.append(item[0])\n",
    "    emotion.append(item[1])\n",
    "    sentiment.append(item[2])\n",
    "\n",
    "vectorizer = CountVectorizer()\n",
    "# vectorizer.fit(strings)\n",
    "# print(vectorizer.vocabulary_)\n",
    "# tokenize and build vocab\n",
    "v_fit = vectorizer.fit_transform(strings)\n",
    "#v_fit = vectorizer.transform(strings)\n",
    "\n",
    "print(v_fit.shape)\n"
   ]
  },
  {
   "cell_type": "markdown",
   "metadata": {},
   "source": [
    "<h3>2.2 Split Dataset </h3>"
   ]
  },
  {
   "cell_type": "code",
   "execution_count": 13,
   "metadata": {},
   "outputs": [],
   "source": [
    "# Comment out depending on which classification you are running\n",
    "\n",
    "# SENTIMENTS\n",
    "# X_train, X_test, y_train, y_test = train_test_split(v_fit, sentiment, test_size=0.2)\n",
    "\n",
    "# EMOTIONS\n",
    "X_train, X_test, y_train, y_test = train_test_split(v_fit, emotion, test_size=0.2)"
   ]
  },
  {
   "cell_type": "markdown",
   "metadata": {},
   "source": [
    "<h3>2.3 Classifiers - EMOTIONS</h3>"
   ]
  },
  {
   "cell_type": "markdown",
   "metadata": {},
   "source": [
    "<h4> BASE-MNB <h4>"
   ]
  },
  {
   "cell_type": "code",
   "execution_count": 14,
   "metadata": {},
   "outputs": [
    {
     "name": "stdout",
     "output_type": "stream",
     "text": [
      "Base-MNP: \n",
      "0.3852578279594925\n"
     ]
    }
   ],
   "source": [
    "em_base_mnb = MultinomialNB()\n",
    "em_base_mnb.fit(X_train,y_train)\n",
    "print(\"Base-MNB: \")\n",
    "print(em_base_mnb.score(X_test,y_test))"
   ]
  },
  {
   "cell_type": "markdown",
   "metadata": {},
   "source": [
    "<h4>BASE-DT</h4>"
   ]
  },
  {
   "cell_type": "code",
   "execution_count": 15,
   "metadata": {},
   "outputs": [
    {
     "name": "stdout",
     "output_type": "stream",
     "text": [
      "Base-DT: \n",
      "0.355575602374578\n"
     ]
    }
   ],
   "source": [
    "em_dtc = DecisionTreeClassifier()\n",
    "em_dtc.fit(X_train, y_train)\n",
    "print(\"Base-DT: \")\n",
    "print(em_dtc.score(X_test, y_test))"
   ]
  },
  {
   "cell_type": "markdown",
   "metadata": {},
   "source": [
    "<h4>BASE-MLP</H4>"
   ]
  },
  {
   "cell_type": "code",
   "execution_count": 16,
   "metadata": {},
   "outputs": [
    {
     "name": "stdout",
     "output_type": "stream",
     "text": [
      "Base-MLP: \n",
      "0.43758002560819464\n"
     ]
    },
    {
     "name": "stderr",
     "output_type": "stream",
     "text": [
      "C:\\Users\\Krish\\AppData\\Roaming\\Python\\Python310\\site-packages\\sklearn\\neural_network\\_multilayer_perceptron.py:702: ConvergenceWarning: Stochastic Optimizer: Maximum iterations (1) reached and the optimization hasn't converged yet.\n",
      "  warnings.warn(\n"
     ]
    }
   ],
   "source": [
    "em_p = MLPClassifier(max_iter=1)\n",
    "em_p.fit(X_train,y_train)\n",
    "print(\"Base-MLP: \")\n",
    "print(em_p.score(X_test,y_test))"
   ]
  },
  {
   "cell_type": "markdown",
   "metadata": {},
   "source": [
    "<h4>TOP-MNB<H4>"
   ]
  },
  {
   "cell_type": "code",
   "execution_count": 17,
   "metadata": {},
   "outputs": [
    {
     "name": "stderr",
     "output_type": "stream",
     "text": [
      "C:\\Users\\Krish\\AppData\\Roaming\\Python\\Python310\\site-packages\\sklearn\\naive_bayes.py:591: UserWarning: alpha too small will result in numeric errors, setting alpha = 1.0e-10\n",
      "  warnings.warn(\n",
      "C:\\Users\\Krish\\AppData\\Roaming\\Python\\Python310\\site-packages\\sklearn\\naive_bayes.py:591: UserWarning: alpha too small will result in numeric errors, setting alpha = 1.0e-10\n",
      "  warnings.warn(\n",
      "C:\\Users\\Krish\\AppData\\Roaming\\Python\\Python310\\site-packages\\sklearn\\naive_bayes.py:591: UserWarning: alpha too small will result in numeric errors, setting alpha = 1.0e-10\n",
      "  warnings.warn(\n",
      "C:\\Users\\Krish\\AppData\\Roaming\\Python\\Python310\\site-packages\\sklearn\\naive_bayes.py:591: UserWarning: alpha too small will result in numeric errors, setting alpha = 1.0e-10\n",
      "  warnings.warn(\n",
      "C:\\Users\\Krish\\AppData\\Roaming\\Python\\Python310\\site-packages\\sklearn\\naive_bayes.py:591: UserWarning: alpha too small will result in numeric errors, setting alpha = 1.0e-10\n",
      "  warnings.warn(\n"
     ]
    },
    {
     "name": "stdout",
     "output_type": "stream",
     "text": [
      "TOP-MNB: \n",
      "0.3915143755092539\n"
     ]
    }
   ],
   "source": [
    "em_nb = MultinomialNB()\n",
    "params_nb = {\n",
    "    \"alpha\" : [0.0, 0.5, 1.0, 2.0]\n",
    "}\n",
    "\n",
    "em_nb_grid = GridSearchCV(em_nb, params_nb)\n",
    "em_nb_grid.fit(X_train, y_train)\n",
    "print(\"TOP-MNB: \")\n",
    "print(em_nb_grid.score(X_test, y_test))\n"
   ]
  },
  {
   "cell_type": "markdown",
   "metadata": {},
   "source": [
    "<h4>TOP-DT<H4>"
   ]
  },
  {
   "cell_type": "code",
   "execution_count": 18,
   "metadata": {},
   "outputs": [
    {
     "name": "stdout",
     "output_type": "stream",
     "text": [
      "TOP-DT: \n",
      "0.39320218833663134\n"
     ]
    }
   ],
   "source": [
    "em_tdt = DecisionTreeClassifier()\n",
    "\n",
    "params_dt = {\n",
    "    \"criterion\" : ['gini','entropy'],\n",
    "    \"max_depth\" : [2,10],\n",
    "    \"min_samples_split\" : [2,10,40]\n",
    "}\n",
    "em_dt_grid = GridSearchCV(\n",
    "    estimator=em_tdt,\n",
    "    param_grid= params_dt\n",
    ")\n",
    "em_dt_grid = em_dt_grid.fit(X_train, y_train)\n",
    "print(\"TOP-DT: \")\n",
    "print(em_dt_grid.score(X_test, y_test))"
   ]
  },
  {
   "cell_type": "markdown",
   "metadata": {},
   "source": [
    "<h4>TOP-MLP<H4>"
   ]
  },
  {
   "cell_type": "code",
   "execution_count": 19,
   "metadata": {},
   "outputs": [
    {
     "name": "stderr",
     "output_type": "stream",
     "text": [
      "C:\\Users\\Krish\\AppData\\Roaming\\Python\\Python310\\site-packages\\sklearn\\model_selection\\_validation.py:378: FitFailedWarning: \n",
      "20 fits failed out of a total of 80.\n",
      "The score on these train-test partitions for these parameters will be set to nan.\n",
      "If these failures are not expected, you can try to debug them by setting error_score='raise'.\n",
      "\n",
      "Below are more details about the failures:\n",
      "--------------------------------------------------------------------------------\n",
      "20 fits failed with the following error:\n",
      "Traceback (most recent call last):\n",
      "  File \"C:\\Users\\Krish\\AppData\\Roaming\\Python\\Python310\\site-packages\\sklearn\\model_selection\\_validation.py\", line 686, in _fit_and_score\n",
      "    estimator.fit(X_train, y_train, **fit_params)\n",
      "  File \"C:\\Users\\Krish\\AppData\\Roaming\\Python\\Python310\\site-packages\\sklearn\\neural_network\\_multilayer_perceptron.py\", line 762, in fit\n",
      "    return self._fit(X, y, incremental=False)\n",
      "  File \"C:\\Users\\Krish\\AppData\\Roaming\\Python\\Python310\\site-packages\\sklearn\\neural_network\\_multilayer_perceptron.py\", line 385, in _fit\n",
      "    self._validate_hyperparameters()\n",
      "  File \"C:\\Users\\Krish\\AppData\\Roaming\\Python\\Python310\\site-packages\\sklearn\\neural_network\\_multilayer_perceptron.py\", line 503, in _validate_hyperparameters\n",
      "    raise ValueError(\n",
      "ValueError: The activation 'sigmoid' is not supported. Supported activations are ['identity', 'logistic', 'relu', 'softmax', 'tanh'].\n",
      "\n",
      "  warnings.warn(some_fits_failed_message, FitFailedWarning)\n",
      "C:\\Users\\Krish\\AppData\\Roaming\\Python\\Python310\\site-packages\\sklearn\\model_selection\\_search.py:953: UserWarning: One or more of the test scores are non-finite: [       nan        nan        nan        nan 0.32149197 0.37179887\n",
      " 0.32149197 0.42944651 0.32149197 0.36480033 0.32149197 0.41847574\n",
      " 0.32149197 0.39467907 0.32149197 0.42772234]\n",
      "  warnings.warn(\n"
     ]
    },
    {
     "name": "stdout",
     "output_type": "stream",
     "text": [
      "TOP-MLP: \n",
      "0.43600861366546384\n"
     ]
    },
    {
     "name": "stderr",
     "output_type": "stream",
     "text": [
      "C:\\Users\\Krish\\AppData\\Roaming\\Python\\Python310\\site-packages\\sklearn\\neural_network\\_multilayer_perceptron.py:702: ConvergenceWarning: Stochastic Optimizer: Maximum iterations (1) reached and the optimization hasn't converged yet.\n",
      "  warnings.warn(\n"
     ]
    }
   ],
   "source": [
    "em_mlp = MLPClassifier(max_iter=1)\n",
    "\n",
    "params_mlp = {\n",
    "    'activation' : ['sigmoid', 'tanh', 'relu', 'identity'],\n",
    "    'hidden_layer_sizes': [(10,10,10), (30,50)],\n",
    "    'solver': ['sgd', 'adam'] \n",
    "}\n",
    "\n",
    "em_mlp_grid = GridSearchCV(em_mlp,params_mlp,n_jobs=-1)\n",
    "em_mlp_grid.fit(X_train, y_train)\n",
    "print(\"TOP-MLP: \")\n",
    "print(em_mlp_grid.score(X_test, y_test))"
   ]
  },
  {
   "cell_type": "markdown",
   "metadata": {},
   "source": [
    "<h3> 2.3 Classifiers - SENTIMENTS </h3>"
   ]
  },
  {
   "cell_type": "markdown",
   "metadata": {},
   "source": [
    "<h4>BASE-MNB</h4>"
   ]
  },
  {
   "cell_type": "code",
   "execution_count": 5,
   "metadata": {},
   "outputs": [
    {
     "name": "stdout",
     "output_type": "stream",
     "text": [
      "Base-MNP: \n",
      "0.5444360377138866\n"
     ]
    }
   ],
   "source": [
    "sent_base_mnb = MultinomialNB()\n",
    "sent_base_mnb.fit(X_train,y_train)\n",
    "print(\"Base-MNP: \")\n",
    "print(sent_base_mnb.score(X_test,y_test))"
   ]
  },
  {
   "cell_type": "markdown",
   "metadata": {},
   "source": [
    "<h4>BASE - DT</h4>"
   ]
  },
  {
   "cell_type": "code",
   "execution_count": 6,
   "metadata": {},
   "outputs": [
    {
     "name": "stdout",
     "output_type": "stream",
     "text": [
      "Base-DT: \n",
      "0.5427191246653474\n"
     ]
    }
   ],
   "source": [
    "sent_dtc = DecisionTreeClassifier()\n",
    "sent_dtc.fit(X_train, y_train)\n",
    "print(\"Base-DT: \")\n",
    "print(sent_dtc.score(X_test, y_test))"
   ]
  },
  {
   "cell_type": "markdown",
   "metadata": {},
   "source": [
    "<h4> BASE-MLP</h4>"
   ]
  },
  {
   "cell_type": "code",
   "execution_count": 7,
   "metadata": {},
   "outputs": [
    {
     "name": "stdout",
     "output_type": "stream",
     "text": [
      "Base-MLP: \n",
      "0.5707135374228844\n"
     ]
    },
    {
     "name": "stderr",
     "output_type": "stream",
     "text": [
      "C:\\Users\\Krish\\AppData\\Roaming\\Python\\Python310\\site-packages\\sklearn\\neural_network\\_multilayer_perceptron.py:709: UserWarning: Training interrupted by user.\n",
      "  warnings.warn(\"Training interrupted by user.\")\n"
     ]
    }
   ],
   "source": [
    "sent_p = MLPClassifier(max_iter=2)\n",
    "sent_p.fit(X_train,y_train)\n",
    "print(\"Base-MLP: \")\n",
    "print(sent_p.score(X_test,y_test))"
   ]
  },
  {
   "cell_type": "markdown",
   "metadata": {},
   "source": [
    "<h4>TOP-MNB<H4>"
   ]
  },
  {
   "cell_type": "code",
   "execution_count": 9,
   "metadata": {},
   "outputs": [
    {
     "name": "stderr",
     "output_type": "stream",
     "text": [
      "C:\\Users\\Krish\\AppData\\Roaming\\Python\\Python310\\site-packages\\sklearn\\naive_bayes.py:591: UserWarning: alpha too small will result in numeric errors, setting alpha = 1.0e-10\n",
      "  warnings.warn(\n",
      "C:\\Users\\Krish\\AppData\\Roaming\\Python\\Python310\\site-packages\\sklearn\\naive_bayes.py:591: UserWarning: alpha too small will result in numeric errors, setting alpha = 1.0e-10\n",
      "  warnings.warn(\n",
      "C:\\Users\\Krish\\AppData\\Roaming\\Python\\Python310\\site-packages\\sklearn\\naive_bayes.py:591: UserWarning: alpha too small will result in numeric errors, setting alpha = 1.0e-10\n",
      "  warnings.warn(\n",
      "C:\\Users\\Krish\\AppData\\Roaming\\Python\\Python310\\site-packages\\sklearn\\naive_bayes.py:591: UserWarning: alpha too small will result in numeric errors, setting alpha = 1.0e-10\n",
      "  warnings.warn(\n",
      "C:\\Users\\Krish\\AppData\\Roaming\\Python\\Python310\\site-packages\\sklearn\\naive_bayes.py:591: UserWarning: alpha too small will result in numeric errors, setting alpha = 1.0e-10\n",
      "  warnings.warn(\n"
     ]
    },
    {
     "name": "stdout",
     "output_type": "stream",
     "text": [
      "TOP-MNB: \n",
      "0.5446106390408567\n"
     ]
    }
   ],
   "source": [
    "sent_nb = MultinomialNB()\n",
    "params_nb = {\n",
    "    \"alpha\" : [0.0, 0.5, 10.0, 20.0]\n",
    "}\n",
    "\n",
    "sent_nb_grid = GridSearchCV(sent_nb, params_nb)\n",
    "sent_nb_grid.fit(X_train, y_train)\n",
    "print('best parameters:')\n",
    "print(sent_nb_grid.best_params_)\n",
    "print(\"TOP-MNB: \")\n",
    "print(sent_nb_grid.score(X_test, y_test))\n"
   ]
  },
  {
   "cell_type": "markdown",
   "metadata": {},
   "source": [
    "<h4>TOP-DT</h4>"
   ]
  },
  {
   "cell_type": "code",
   "execution_count": 10,
   "metadata": {},
   "outputs": [
    {
     "name": "stdout",
     "output_type": "stream",
     "text": [
      "TOP-DT: \n",
      "0.4241357234314981\n"
     ]
    }
   ],
   "source": [
    "sent_tdt = DecisionTreeClassifier()\n",
    "\n",
    "params_dt = {\n",
    "    \"criterion\" : ['gini','entropy'],\n",
    "    \"max_depth\" : [2,10],\n",
    "    \"min_samples_split\" : [2,10,40]\n",
    "}\n",
    "sent_dt_grid = GridSearchCV(\n",
    "    estimator=sent_tdt,\n",
    "    param_grid= params_dt\n",
    ")\n",
    "sent_dt_grid = sent_dt_grid.fit(X_train, y_train)\n",
    "print('best parameters:')\n",
    "print(sent_dt_grid.best_params_)\n",
    "print(\"TOP-DT: \")\n",
    "print(sent_dt_grid.score(X_test, y_test))"
   ]
  },
  {
   "cell_type": "markdown",
   "metadata": {},
   "source": [
    "<h4>TOP-MLP</h4>"
   ]
  },
  {
   "cell_type": "code",
   "execution_count": 12,
   "metadata": {},
   "outputs": [
    {
     "name": "stderr",
     "output_type": "stream",
     "text": [
      "C:\\Users\\Krish\\AppData\\Roaming\\Python\\Python310\\site-packages\\sklearn\\model_selection\\_validation.py:378: FitFailedWarning: \n",
      "20 fits failed out of a total of 80.\n",
      "The score on these train-test partitions for these parameters will be set to nan.\n",
      "If these failures are not expected, you can try to debug them by setting error_score='raise'.\n",
      "\n",
      "Below are more details about the failures:\n",
      "--------------------------------------------------------------------------------\n",
      "20 fits failed with the following error:\n",
      "Traceback (most recent call last):\n",
      "  File \"C:\\Users\\Krish\\AppData\\Roaming\\Python\\Python310\\site-packages\\sklearn\\model_selection\\_validation.py\", line 686, in _fit_and_score\n",
      "    estimator.fit(X_train, y_train, **fit_params)\n",
      "  File \"C:\\Users\\Krish\\AppData\\Roaming\\Python\\Python310\\site-packages\\sklearn\\neural_network\\_multilayer_perceptron.py\", line 762, in fit\n",
      "    return self._fit(X, y, incremental=False)\n",
      "  File \"C:\\Users\\Krish\\AppData\\Roaming\\Python\\Python310\\site-packages\\sklearn\\neural_network\\_multilayer_perceptron.py\", line 385, in _fit\n",
      "    self._validate_hyperparameters()\n",
      "  File \"C:\\Users\\Krish\\AppData\\Roaming\\Python\\Python310\\site-packages\\sklearn\\neural_network\\_multilayer_perceptron.py\", line 503, in _validate_hyperparameters\n",
      "    raise ValueError(\n",
      "ValueError: The activation 'sigmoid' is not supported. Supported activations are ['identity', 'logistic', 'relu', 'softmax', 'tanh'].\n",
      "\n",
      "  warnings.warn(some_fits_failed_message, FitFailedWarning)\n",
      "C:\\Users\\Krish\\AppData\\Roaming\\Python\\Python310\\site-packages\\sklearn\\model_selection\\_search.py:953: UserWarning: One or more of the test scores are non-finite: [       nan        nan        nan        nan 0.38545448 0.56071033\n",
      " 0.38780415 0.56039749 0.35644143 0.54571646 0.37256288 0.56271825\n",
      " 0.39127442 0.5573056  0.39433716 0.56067398]\n",
      "  warnings.warn(\n"
     ]
    },
    {
     "name": "stdout",
     "output_type": "stream",
     "text": [
      "TOP-MLP: \n",
      "0.56509719473868\n"
     ]
    },
    {
     "name": "stderr",
     "output_type": "stream",
     "text": [
      "C:\\Users\\Krish\\AppData\\Roaming\\Python\\Python310\\site-packages\\sklearn\\neural_network\\_multilayer_perceptron.py:702: ConvergenceWarning: Stochastic Optimizer: Maximum iterations (1) reached and the optimization hasn't converged yet.\n",
      "  warnings.warn(\n"
     ]
    }
   ],
   "source": [
    "sent_mlp = MLPClassifier(max_iter=1)\n",
    "\n",
    "params_mlp = {\n",
    "    'activation' : ['sigmoid', 'tanh', 'relu', 'identity'],\n",
    "    'hidden_layer_sizes': [(10,10,10), (30,50)],\n",
    "    'solver': ['sgd', 'adam'] \n",
    "}\n",
    "\n",
    "sent_mlp_grid = GridSearchCV(sent_mlp,params_mlp,n_jobs=-1)\n",
    "sent_mlp_grid.fit(X_train, y_train)\n",
    "print('best parameters:')\n",
    "print(sent_mlp_grid.best_params_) \n",
    "print(\"TOP-MLP: \")\n",
    "print(sent_mlp_grid.score(X_test, y_test))"
   ]
  },
  {
   "cell_type": "markdown",
   "metadata": {},
   "source": [
    "<H3> 2.4 Classification Reports </h3>"
   ]
  },
  {
   "cell_type": "markdown",
   "metadata": {},
   "source": [
    "<h4> Base-MNB - EMOTION </h4>"
   ]
  },
  {
   "cell_type": "code",
   "execution_count": null,
   "metadata": {},
   "outputs": [],
   "source": [
    "mnb_em_pred = em_base_mnb.predict(X_test)\n",
    "\n",
    "with open ('performance.txt', 'w') as f: \n",
    "    f.write(\"MODEL: base-MNB || PARAMS: none || TASK: emotion\")\n",
    "\n"
   ]
  }
 ],
 "metadata": {
  "kernelspec": {
   "display_name": "Python 3",
   "language": "python",
   "name": "python3"
  },
  "language_info": {
   "codemirror_mode": {
    "name": "ipython",
    "version": 3
   },
   "file_extension": ".py",
   "mimetype": "text/x-python",
   "name": "python",
   "nbconvert_exporter": "python",
   "pygments_lexer": "ipython3",
   "version": "3.10.7"
  },
  "vscode": {
   "interpreter": {
    "hash": "9b4d75ac280b6c7c3aa43866cb82dc88915409b55fec83a093dd0284cb58708e"
   }
  }
 },
 "nbformat": 4,
 "nbformat_minor": 2
}
